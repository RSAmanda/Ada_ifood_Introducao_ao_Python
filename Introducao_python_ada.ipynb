{
  "nbformat": 4,
  "nbformat_minor": 0,
  "metadata": {
    "colab": {
      "provenance": [],
      "authorship_tag": "ABX9TyMffCpry/8Tvcd93WN0Efw5",
      "include_colab_link": true
    },
    "kernelspec": {
      "name": "python3",
      "display_name": "Python 3"
    },
    "language_info": {
      "name": "python"
    }
  },
  "cells": [
    {
      "cell_type": "markdown",
      "metadata": {
        "id": "view-in-github",
        "colab_type": "text"
      },
      "source": [
        "<a href=\"https://colab.research.google.com/github/RSAmanda/Ada_ifood_Introducao_ao_Python/blob/main/Introducao_python_ada.ipynb\" target=\"_parent\"><img src=\"https://colab.research.google.com/assets/colab-badge.svg\" alt=\"Open In Colab\"/></a>"
      ]
    },
    {
      "cell_type": "markdown",
      "source": [
        "Curso introdutório de python realizado nos dias 11 e 12 de julho de 2023"
      ],
      "metadata": {
        "id": "dMJypPpJPVIh"
      }
    },
    {
      "cell_type": "markdown",
      "source": [
        "# 1. Setup: Instalação | Configurações Iniciais\n",
        "\n",
        "Aula com informações de como baixa e instalar o python no windows e também como usar o python no visual studio code.\n"
      ],
      "metadata": {
        "id": "agKOv8ifvfW0"
      }
    },
    {
      "cell_type": "markdown",
      "source": [
        "# 2. Entrada e Saída de Dados"
      ],
      "metadata": {
        "id": "cERyPoJ8wCsf"
      }
    },
    {
      "cell_type": "markdown",
      "source": [
        "Saída de dados:"
      ],
      "metadata": {
        "id": "4B3L73dSxjpb"
      }
    },
    {
      "cell_type": "code",
      "source": [
        "print(\"Hello World\")"
      ],
      "metadata": {
        "colab": {
          "base_uri": "https://localhost:8080/"
        },
        "id": "eMQtr20DxjLf",
        "outputId": "9c7b7349-42ae-4d3c-c7f9-00607af46fef"
      },
      "execution_count": null,
      "outputs": [
        {
          "output_type": "stream",
          "name": "stdout",
          "text": [
            "Hello World\n"
          ]
        }
      ]
    },
    {
      "cell_type": "markdown",
      "source": [
        "Entrada de dados:"
      ],
      "metadata": {
        "id": "Spt5gKeYxqW1"
      }
    },
    {
      "cell_type": "code",
      "source": [
        "input(\"Que linguagem de programação é essa? \")"
      ],
      "metadata": {
        "colab": {
          "base_uri": "https://localhost:8080/",
          "height": 53
        },
        "id": "lWCFyIgTxsAP",
        "outputId": "7eef25fe-4d55-4c71-ce3f-eb5c17dc0d48"
      },
      "execution_count": null,
      "outputs": [
        {
          "name": "stdout",
          "output_type": "stream",
          "text": [
            "Que linguagem de programação é essa? python\n"
          ]
        },
        {
          "output_type": "execute_result",
          "data": {
            "text/plain": [
              "'python'"
            ],
            "application/vnd.google.colaboratory.intrinsic+json": {
              "type": "string"
            }
          },
          "metadata": {},
          "execution_count": 3
        }
      ]
    },
    {
      "cell_type": "markdown",
      "source": [
        "# 3. Variáveis"
      ],
      "metadata": {
        "id": "dNx2WpuswCqL"
      }
    },
    {
      "cell_type": "markdown",
      "source": [
        "Em python não é necessário informar o tipo da variável, como ocorre em C ou Fortran.\n",
        "\n",
        "Apenas atribuimos um valor a variável criada."
      ],
      "metadata": {
        "id": "04SX8DX0yZ7O"
      }
    },
    {
      "cell_type": "code",
      "source": [
        "idade = 28 # idade recebe 28"
      ],
      "metadata": {
        "id": "R0fBqx0ByaWC"
      },
      "execution_count": null,
      "outputs": []
    },
    {
      "cell_type": "markdown",
      "source": [
        "Tipo da variável"
      ],
      "metadata": {
        "id": "zwpjM7hgzjUD"
      }
    },
    {
      "cell_type": "code",
      "source": [
        "type(idade)"
      ],
      "metadata": {
        "colab": {
          "base_uri": "https://localhost:8080/"
        },
        "id": "j13-Equ2zlbW",
        "outputId": "7b0b9659-11ca-4908-e876-a9dbedf13e8b"
      },
      "execution_count": null,
      "outputs": [
        {
          "output_type": "execute_result",
          "data": {
            "text/plain": [
              "int"
            ]
          },
          "metadata": {},
          "execution_count": 5
        }
      ]
    },
    {
      "cell_type": "code",
      "source": [
        "nome = 'Amanda'\n",
        "type(nome)"
      ],
      "metadata": {
        "colab": {
          "base_uri": "https://localhost:8080/"
        },
        "id": "6rMgzCYbzyke",
        "outputId": "e81e0468-0db6-4fd0-b694-b18b16a36c3e"
      },
      "execution_count": null,
      "outputs": [
        {
          "output_type": "execute_result",
          "data": {
            "text/plain": [
              "str"
            ]
          },
          "metadata": {},
          "execution_count": 6
        }
      ]
    },
    {
      "cell_type": "code",
      "source": [
        "altura = 1.6\n",
        "type(altura)"
      ],
      "metadata": {
        "colab": {
          "base_uri": "https://localhost:8080/"
        },
        "id": "OATDsLMH0QVW",
        "outputId": "76ddbb4c-f9fa-492e-c998-804b2cdbbe19"
      },
      "execution_count": null,
      "outputs": [
        {
          "output_type": "execute_result",
          "data": {
            "text/plain": [
              "float"
            ]
          },
          "metadata": {},
          "execution_count": 8
        }
      ]
    },
    {
      "cell_type": "code",
      "source": [
        "estudando = True # Booleano é case sensitive\n",
        "type(estudando)"
      ],
      "metadata": {
        "colab": {
          "base_uri": "https://localhost:8080/"
        },
        "id": "TogGg1Ln0YdR",
        "outputId": "50eda7a1-e4d7-4ecd-8f82-8d728a7547ff"
      },
      "execution_count": null,
      "outputs": [
        {
          "output_type": "execute_result",
          "data": {
            "text/plain": [
              "bool"
            ]
          },
          "metadata": {},
          "execution_count": 9
        }
      ]
    },
    {
      "cell_type": "markdown",
      "source": [
        "int -> número inteiro\n",
        "\n",
        "float -> número real\n",
        "\n",
        "str -> cadeia de caracteres (string)\n",
        "\n",
        "bool -> valores lógicos (booleanos)"
      ],
      "metadata": {
        "id": "R1dgk6tlzowo"
      }
    },
    {
      "cell_type": "markdown",
      "source": [
        "Salvar dado informado pelo usuário:"
      ],
      "metadata": {
        "id": "vuF8vusZ0r91"
      }
    },
    {
      "cell_type": "code",
      "source": [
        "linguagem = input(\"qual é a linguagem de programação que você está estudando? \")"
      ],
      "metadata": {
        "colab": {
          "base_uri": "https://localhost:8080/"
        },
        "id": "gupKe5uu0w1a",
        "outputId": "a954c89d-e658-421f-abd3-cd81ddca3271"
      },
      "execution_count": null,
      "outputs": [
        {
          "name": "stdout",
          "output_type": "stream",
          "text": [
            "qual é a linguagem de programação que você está estudando? python\n"
          ]
        }
      ]
    },
    {
      "cell_type": "code",
      "source": [
        "print(\"a linguagem que você está estudando é\", linguagem)"
      ],
      "metadata": {
        "colab": {
          "base_uri": "https://localhost:8080/"
        },
        "id": "wYZ8tE3U1AYK",
        "outputId": "d13bbe9a-1f69-439f-932c-13f0afc1b0ce"
      },
      "execution_count": null,
      "outputs": [
        {
          "output_type": "stream",
          "name": "stdout",
          "text": [
            "a linguagem que você está estudando é python\n"
          ]
        }
      ]
    },
    {
      "cell_type": "markdown",
      "source": [
        "# 4. Operadores Aritméticos e Booleanos"
      ],
      "metadata": {
        "id": "d5H5fYRowCn-"
      }
    },
    {
      "cell_type": "markdown",
      "source": [
        "## Operadores Mateméticos no python\n",
        "\n",
        "* Soma: +\n",
        "* Subtração: -\n",
        "* Multiplicação: *\n",
        "* Divisão: /\n",
        "* Divisão Inteira: //\n",
        "* Resto da divisão: %\n",
        "* Potenciação: **"
      ],
      "metadata": {
        "id": "g1x80jax1dJJ"
      }
    },
    {
      "cell_type": "code",
      "source": [
        "numero1 = 10\n",
        "numero2 = 20\n",
        "print(numero1 + numero2)\n",
        "print(numero1 - numero2)\n",
        "print(numero1 * numero2)\n",
        "print(numero1 / numero2)\n",
        "print(numero1 // numero2)\n",
        "print(20 % 3)\n",
        "print(2 ** 3)"
      ],
      "metadata": {
        "id": "0uMEwhH_1-zW",
        "colab": {
          "base_uri": "https://localhost:8080/"
        },
        "outputId": "9d52e6ea-faf2-40a0-ac1d-3fed3fc68533"
      },
      "execution_count": null,
      "outputs": [
        {
          "output_type": "stream",
          "name": "stdout",
          "text": [
            "30\n",
            "-10\n",
            "200\n",
            "0.5\n",
            "0\n",
            "2\n",
            "8\n"
          ]
        }
      ]
    },
    {
      "cell_type": "markdown",
      "source": [
        "## Operadores booleanos\n",
        "\n",
        "True e False"
      ],
      "metadata": {
        "id": "jQJk4aBY20uU"
      }
    },
    {
      "cell_type": "code",
      "source": [
        "print(numero1 <= numero2)\n",
        "print(numero1 == numero2)"
      ],
      "metadata": {
        "colab": {
          "base_uri": "https://localhost:8080/"
        },
        "id": "e4v5tals3Akt",
        "outputId": "bd7eb1ae-8ba8-481b-dbf8-b758d07351b4"
      },
      "execution_count": null,
      "outputs": [
        {
          "output_type": "stream",
          "name": "stdout",
          "text": [
            "True\n",
            "False\n"
          ]
        }
      ]
    },
    {
      "cell_type": "code",
      "source": [
        "print('banana' != 'abacaxi')\n",
        "print('python' == 'Python')"
      ],
      "metadata": {
        "colab": {
          "base_uri": "https://localhost:8080/"
        },
        "id": "slul6JpD3OQ9",
        "outputId": "4036b5f9-b09b-494e-91cb-e33c193ad5d1"
      },
      "execution_count": null,
      "outputs": [
        {
          "output_type": "stream",
          "name": "stdout",
          "text": [
            "True\n",
            "False\n"
          ]
        }
      ]
    },
    {
      "cell_type": "markdown",
      "source": [
        "# 5. Conversão de Tipos"
      ],
      "metadata": {
        "id": "Mt_JKWswwClt"
      }
    },
    {
      "cell_type": "code",
      "source": [
        "idade = '26'\n",
        "numero1 = '10'\n",
        "numero2 = '20'"
      ],
      "metadata": {
        "id": "wHeQqj_W-gPg"
      },
      "execution_count": null,
      "outputs": []
    },
    {
      "cell_type": "code",
      "source": [
        "print(str(type(idade)) + '\\n' + str(type(numero1)) + '\\n' + str(type(numero2)))"
      ],
      "metadata": {
        "colab": {
          "base_uri": "https://localhost:8080/"
        },
        "id": "pU0lQ2p8-oxY",
        "outputId": "21ff53d7-d156-4e66-ced1-476599952c9a"
      },
      "execution_count": null,
      "outputs": [
        {
          "output_type": "stream",
          "name": "stdout",
          "text": [
            "<class 'str'>\n",
            "<class 'str'>\n",
            "<class 'str'>\n"
          ]
        }
      ]
    },
    {
      "cell_type": "code",
      "source": [
        "print(numero1 + numero2)"
      ],
      "metadata": {
        "colab": {
          "base_uri": "https://localhost:8080/"
        },
        "id": "LdY7ifRQ_DIQ",
        "outputId": "ad723266-e7bb-4d32-c64f-a45feae267d6"
      },
      "execution_count": null,
      "outputs": [
        {
          "output_type": "stream",
          "name": "stdout",
          "text": [
            "1020\n"
          ]
        }
      ]
    },
    {
      "cell_type": "markdown",
      "source": [
        "Converter a variavel idade para inteiro:"
      ],
      "metadata": {
        "id": "lM3SoKiV_Mc2"
      }
    },
    {
      "cell_type": "code",
      "source": [
        "idade_inteira = int(idade)\n",
        "type(idade_inteira)"
      ],
      "metadata": {
        "colab": {
          "base_uri": "https://localhost:8080/"
        },
        "id": "lapKSP4d_TAj",
        "outputId": "7f5ba895-891f-47c5-dc30-3a976d91d6fb"
      },
      "execution_count": null,
      "outputs": [
        {
          "output_type": "execute_result",
          "data": {
            "text/plain": [
              "int"
            ]
          },
          "metadata": {},
          "execution_count": 21
        }
      ]
    },
    {
      "cell_type": "markdown",
      "source": [
        "* int() -> converte para inteiro\n",
        "* float() -> converte para decimal (real)\n",
        "* str() -> converte para string\n",
        "* bool() -> converte para booleano"
      ],
      "metadata": {
        "id": "CuHtdD5p_j81"
      }
    },
    {
      "cell_type": "markdown",
      "source": [
        "A função input armazena a saída do usuário como string"
      ],
      "metadata": {
        "id": "3qsCYJEn_97i"
      }
    },
    {
      "cell_type": "code",
      "source": [
        "altura = input('informe altura: ')"
      ],
      "metadata": {
        "colab": {
          "base_uri": "https://localhost:8080/"
        },
        "id": "zRAztSmk_7Xf",
        "outputId": "1e0418e5-19e7-45be-fb65-5b068f45d005"
      },
      "execution_count": null,
      "outputs": [
        {
          "name": "stdout",
          "output_type": "stream",
          "text": [
            "informe altura: 1.6\n"
          ]
        }
      ]
    },
    {
      "cell_type": "code",
      "source": [
        "type(altura)"
      ],
      "metadata": {
        "colab": {
          "base_uri": "https://localhost:8080/"
        },
        "id": "dYm5f0jhAMYK",
        "outputId": "d26b5ee0-ee5c-408d-d253-22d1f759ea0b"
      },
      "execution_count": null,
      "outputs": [
        {
          "output_type": "execute_result",
          "data": {
            "text/plain": [
              "str"
            ]
          },
          "metadata": {},
          "execution_count": 23
        }
      ]
    },
    {
      "cell_type": "markdown",
      "source": [
        "boa prática: converter a saída junto com a função input"
      ],
      "metadata": {
        "id": "rwhdAMIFAVYg"
      }
    },
    {
      "cell_type": "code",
      "source": [
        "altura = float(input('informe altura: '))"
      ],
      "metadata": {
        "colab": {
          "base_uri": "https://localhost:8080/"
        },
        "id": "lkJdhfn5AQOW",
        "outputId": "cf097ffc-71a7-4251-f6d6-31658e7bbd84"
      },
      "execution_count": null,
      "outputs": [
        {
          "name": "stdout",
          "output_type": "stream",
          "text": [
            "informe altura: 1.6\n"
          ]
        }
      ]
    },
    {
      "cell_type": "code",
      "source": [
        "type(altura)"
      ],
      "metadata": {
        "colab": {
          "base_uri": "https://localhost:8080/"
        },
        "id": "96PDNNRRAfjG",
        "outputId": "368406db-9edd-451e-dc19-20149cfcf22b"
      },
      "execution_count": null,
      "outputs": [
        {
          "output_type": "execute_result",
          "data": {
            "text/plain": [
              "float"
            ]
          },
          "metadata": {},
          "execution_count": 25
        }
      ]
    },
    {
      "cell_type": "markdown",
      "source": [
        "# 6. Estruturas Condicionais"
      ],
      "metadata": {
        "id": "QY5Magf7wCjQ"
      }
    },
    {
      "cell_type": "markdown",
      "source": [
        "Estruturas de controle de fluxo"
      ],
      "metadata": {
        "id": "B2oS1L0WDxTa"
      }
    },
    {
      "cell_type": "markdown",
      "source": [
        "Informar se a pessoa é maior de idade ou não"
      ],
      "metadata": {
        "id": "bQ8LkwXMFLBg"
      }
    },
    {
      "cell_type": "code",
      "source": [
        "idade = int(input('informe sua idade: '))\n",
        "if idade >= 18:\n",
        "  print(\"Você é maior de idade.\")\n",
        "else:\n",
        "  print(\"Você não é maior de idade.\")"
      ],
      "metadata": {
        "colab": {
          "base_uri": "https://localhost:8080/"
        },
        "id": "g_FV19b7EJpy",
        "outputId": "44b91621-4bc8-468b-e34f-3e31f5ac1af2"
      },
      "execution_count": null,
      "outputs": [
        {
          "output_type": "stream",
          "name": "stdout",
          "text": [
            "informe sua idade: 22\n",
            "Você é maior de idade.\n"
          ]
        }
      ]
    },
    {
      "cell_type": "markdown",
      "source": [
        "Informar se o estudante passou, está de recuperação ou reprovou"
      ],
      "metadata": {
        "id": "KxR4LE0yFPbW"
      }
    },
    {
      "cell_type": "code",
      "source": [
        "media = float(input('informe média das notas: '))\n",
        "if media >= 7:\n",
        "  print(\"Você passou\")\n",
        "elif media >= 5:\n",
        "  print(\"Você ficou de recuperação\")\n",
        "else:\n",
        "  print(\"Você não passou.\")"
      ],
      "metadata": {
        "colab": {
          "base_uri": "https://localhost:8080/"
        },
        "id": "bnH3dv11ElYH",
        "outputId": "04626ecf-32b4-4c8d-ccca-ddaba77e52f9"
      },
      "execution_count": null,
      "outputs": [
        {
          "output_type": "stream",
          "name": "stdout",
          "text": [
            "informe média das notas: 5\n",
            "Você ficou de recuperação\n"
          ]
        }
      ]
    },
    {
      "cell_type": "markdown",
      "source": [
        "Informar se passou ou reprovou levando em conta a presença em sala de aula."
      ],
      "metadata": {
        "id": "_tpK6S6bFT_C"
      }
    },
    {
      "cell_type": "code",
      "source": [
        "media = float(input('informe média das notas: '))\n",
        "presenca = int(input('informe sua presença: '))\n",
        "if media >= 7 and presenca >= 70:\n",
        "  print(\"Aprovado.\")\n",
        "else:\n",
        "  print(\"Reprovou.\")"
      ],
      "metadata": {
        "colab": {
          "base_uri": "https://localhost:8080/"
        },
        "id": "2sfoMJj_FaYw",
        "outputId": "fbdfd226-0067-4b6b-9ed0-1db77984b6af"
      },
      "execution_count": null,
      "outputs": [
        {
          "output_type": "stream",
          "name": "stdout",
          "text": [
            "informe média das notas: 10\n",
            "informe sua presença: 100\n",
            "Aprovado.\n"
          ]
        }
      ]
    },
    {
      "cell_type": "markdown",
      "source": [
        "# 7. Laços de Repetição (\"While\")\n",
        "\n",
        "While: laço condicional"
      ],
      "metadata": {
        "id": "84KoPDvWwCgq"
      }
    },
    {
      "cell_type": "code",
      "source": [
        "numero_sorteado = 15\n",
        "numero_escolhido = int(input('Informe um número entre 1 e 20: '))\n",
        "\n",
        "while numero_escolhido != numero_sorteado:\n",
        "  print(\"Errou, tente novamente\")\n",
        "  numero_escolhido = int(input('Informe um número entre 1 e 20: '))\n",
        "print(\"Acertou, o número era\", numero_sorteado)\n"
      ],
      "metadata": {
        "colab": {
          "base_uri": "https://localhost:8080/"
        },
        "id": "jHXdzNxoGd5g",
        "outputId": "694df3f5-820f-4854-c35e-ba219e8c2811"
      },
      "execution_count": null,
      "outputs": [
        {
          "output_type": "stream",
          "name": "stdout",
          "text": [
            "Informe um número entre 1 e 20: 1\n",
            "Errou, tente novamente\n",
            "Informe um número entre 1 e 20: 2\n",
            "Errou, tente novamente\n",
            "Informe um número entre 1 e 20: 15\n",
            "Acertou, o número era 15\n"
          ]
        }
      ]
    },
    {
      "cell_type": "markdown",
      "source": [
        "Estrutura com contador"
      ],
      "metadata": {
        "id": "x2wxIV3gHcfp"
      }
    },
    {
      "cell_type": "code",
      "source": [
        "contador = 0\n",
        "while contador < 5:\n",
        "  print(contador)\n",
        "  contador+=1"
      ],
      "metadata": {
        "colab": {
          "base_uri": "https://localhost:8080/"
        },
        "id": "hIM2JksUHfCR",
        "outputId": "6d2ecc3e-c94c-47ed-f634-c00a3ee6f488"
      },
      "execution_count": null,
      "outputs": [
        {
          "output_type": "stream",
          "name": "stdout",
          "text": [
            "0\n",
            "1\n",
            "2\n",
            "3\n",
            "4\n"
          ]
        }
      ]
    },
    {
      "cell_type": "markdown",
      "source": [
        "# 8. Laços de Repetição (\"For\")"
      ],
      "metadata": {
        "id": "r28h7YU3w5XK"
      }
    },
    {
      "cell_type": "code",
      "source": [
        "for variavel in range(5):\n",
        "  print(variavel)"
      ],
      "metadata": {
        "colab": {
          "base_uri": "https://localhost:8080/"
        },
        "id": "XMpKwkLJHtHW",
        "outputId": "4c439822-bca5-4cc4-b2e1-04b643b24093"
      },
      "execution_count": null,
      "outputs": [
        {
          "output_type": "stream",
          "name": "stdout",
          "text": [
            "0\n",
            "1\n",
            "2\n",
            "3\n",
            "4\n"
          ]
        }
      ]
    },
    {
      "cell_type": "code",
      "source": [
        "for variavel in range(1, 5):\n",
        "  print(variavel)"
      ],
      "metadata": {
        "colab": {
          "base_uri": "https://localhost:8080/"
        },
        "id": "V7D4IdxAH-DR",
        "outputId": "2ce68b27-70d2-4263-ce28-55f8c0c90760"
      },
      "execution_count": null,
      "outputs": [
        {
          "output_type": "stream",
          "name": "stdout",
          "text": [
            "1\n",
            "2\n",
            "3\n",
            "4\n"
          ]
        }
      ]
    },
    {
      "cell_type": "code",
      "source": [
        "for variavel in range(1, 12, 3):\n",
        "  print(variavel)"
      ],
      "metadata": {
        "colab": {
          "base_uri": "https://localhost:8080/"
        },
        "id": "SdT-GSpDIGTL",
        "outputId": "2fc2a567-9dfd-46ae-c927-37fcff4cd71b"
      },
      "execution_count": null,
      "outputs": [
        {
          "output_type": "stream",
          "name": "stdout",
          "text": [
            "1\n",
            "4\n",
            "7\n",
            "10\n"
          ]
        }
      ]
    },
    {
      "cell_type": "code",
      "source": [
        "nota = 0\n",
        "qtd_notas = 3\n",
        "for i in range(1,qtd_notas+1):\n",
        "  nota += float(input(f'Informe a sua nota {i}: '))\n",
        "media = nota/qtd_notas\n",
        "print(f'Sua média é {round(media,2)}!')"
      ],
      "metadata": {
        "colab": {
          "base_uri": "https://localhost:8080/"
        },
        "id": "VaTH-3zmISpK",
        "outputId": "711ae105-0356-4bfd-a8e8-83e7daf1317b"
      },
      "execution_count": null,
      "outputs": [
        {
          "output_type": "stream",
          "name": "stdout",
          "text": [
            "Informe a sua nota 1: 9\n",
            "Informe a sua nota 2: 5\n",
            "Informe a sua nota 3: 3\n",
            "Sua média é 5.67!\n"
          ]
        }
      ]
    },
    {
      "cell_type": "markdown",
      "source": [
        "# 9. Estrutura de Listas"
      ],
      "metadata": {
        "id": "S4bVPflFw5U5"
      }
    },
    {
      "cell_type": "markdown",
      "source": [
        "lista é uma estrutura de dados\n",
        "\n",
        "-> uma coleção de dados.\n",
        "\n",
        "Uma lista em python permite vários tipos de variáveis."
      ],
      "metadata": {
        "id": "zdTzVi1MJZKh"
      }
    },
    {
      "cell_type": "code",
      "source": [
        "lista = [7, 6, 8]"
      ],
      "metadata": {
        "id": "QbgkDhZJJYgX"
      },
      "execution_count": null,
      "outputs": []
    },
    {
      "cell_type": "code",
      "source": [
        "print(lista)"
      ],
      "metadata": {
        "colab": {
          "base_uri": "https://localhost:8080/"
        },
        "id": "lGJVmw7tMhWm",
        "outputId": "ca46e77d-6404-428d-ddc8-04fc239da741"
      },
      "execution_count": null,
      "outputs": [
        {
          "output_type": "stream",
          "name": "stdout",
          "text": [
            "[7, 6, 8]\n"
          ]
        }
      ]
    },
    {
      "cell_type": "code",
      "source": [
        "type(lista)"
      ],
      "metadata": {
        "colab": {
          "base_uri": "https://localhost:8080/"
        },
        "id": "XFOIfvSWMkUR",
        "outputId": "234b4aa3-2a43-4156-8b05-0646b7515c5a"
      },
      "execution_count": null,
      "outputs": [
        {
          "output_type": "execute_result",
          "data": {
            "text/plain": [
              "list"
            ]
          },
          "metadata": {},
          "execution_count": 50
        }
      ]
    },
    {
      "cell_type": "markdown",
      "source": [
        "criando uma lista vazia"
      ],
      "metadata": {
        "id": "O2hYdzvAMri_"
      }
    },
    {
      "cell_type": "code",
      "source": [
        "lista = []\n",
        "lista = list()"
      ],
      "metadata": {
        "id": "brYw-hawMuPo"
      },
      "execution_count": null,
      "outputs": []
    },
    {
      "cell_type": "markdown",
      "source": [
        "Uma lista com item de vários tipos"
      ],
      "metadata": {
        "id": "FvhlQo_pM6t0"
      }
    },
    {
      "cell_type": "code",
      "source": [
        "lista = [26, 'nome', 3.14]"
      ],
      "metadata": {
        "id": "TxjuwKhcM-fg"
      },
      "execution_count": null,
      "outputs": []
    },
    {
      "cell_type": "code",
      "source": [
        "lista_de_lista = [1, 3, [2, 4, 6], 2, 10, 6, 0]"
      ],
      "metadata": {
        "id": "HhXeQD0TNJlS"
      },
      "execution_count": null,
      "outputs": []
    },
    {
      "cell_type": "code",
      "source": [
        "print(lista_de_lista)"
      ],
      "metadata": {
        "colab": {
          "base_uri": "https://localhost:8080/"
        },
        "id": "zbow4JGjNPV8",
        "outputId": "521d873c-d8ad-44bb-c3b4-f652d8cba4ad"
      },
      "execution_count": null,
      "outputs": [
        {
          "output_type": "stream",
          "name": "stdout",
          "text": [
            "[1, 3, [2, 4, 6], 2, 10, 6, 0]\n"
          ]
        }
      ]
    },
    {
      "cell_type": "markdown",
      "source": [
        "acessando o primeiro elemento"
      ],
      "metadata": {
        "id": "iWCqoR-RNaWY"
      }
    },
    {
      "cell_type": "code",
      "source": [
        "lista_de_lista[0]"
      ],
      "metadata": {
        "colab": {
          "base_uri": "https://localhost:8080/"
        },
        "id": "LdbHtg1lNcyk",
        "outputId": "471aff37-f1cd-4b86-8921-70426121b028"
      },
      "execution_count": null,
      "outputs": [
        {
          "output_type": "execute_result",
          "data": {
            "text/plain": [
              "1"
            ]
          },
          "metadata": {},
          "execution_count": 59
        }
      ]
    },
    {
      "cell_type": "markdown",
      "source": [
        "acessando o último elemento"
      ],
      "metadata": {
        "id": "LtbGkG88NtzO"
      }
    },
    {
      "cell_type": "code",
      "source": [
        "lista_de_lista[-1]"
      ],
      "metadata": {
        "colab": {
          "base_uri": "https://localhost:8080/"
        },
        "id": "1-0e5hPENwSY",
        "outputId": "e8a4dcab-66ec-41e3-bb6e-947db6b9c599"
      },
      "execution_count": null,
      "outputs": [
        {
          "output_type": "execute_result",
          "data": {
            "text/plain": [
              "0"
            ]
          },
          "metadata": {},
          "execution_count": 60
        }
      ]
    },
    {
      "cell_type": "markdown",
      "source": [
        "Fatiamento da lista"
      ],
      "metadata": {
        "id": "DLrCMySwN73A"
      }
    },
    {
      "cell_type": "code",
      "source": [
        "lista_de_lista[0:3]"
      ],
      "metadata": {
        "colab": {
          "base_uri": "https://localhost:8080/"
        },
        "id": "JnOeCluPOA1q",
        "outputId": "20f7ee31-38c0-4a40-ce90-3fd982843d4a"
      },
      "execution_count": null,
      "outputs": [
        {
          "output_type": "execute_result",
          "data": {
            "text/plain": [
              "[1, 3, [2, 4, 6]]"
            ]
          },
          "metadata": {},
          "execution_count": 61
        }
      ]
    },
    {
      "cell_type": "code",
      "source": [
        "lista_de_lista[2:5]"
      ],
      "metadata": {
        "colab": {
          "base_uri": "https://localhost:8080/"
        },
        "id": "p7w8PpSPOaId",
        "outputId": "a7320753-0eb2-4efe-efc0-047b98196ed3"
      },
      "execution_count": null,
      "outputs": [
        {
          "output_type": "execute_result",
          "data": {
            "text/plain": [
              "[[2, 4, 6], 2, 10]"
            ]
          },
          "metadata": {},
          "execution_count": 62
        }
      ]
    },
    {
      "cell_type": "code",
      "source": [
        "lista_de_lista[2:6:2]"
      ],
      "metadata": {
        "colab": {
          "base_uri": "https://localhost:8080/"
        },
        "id": "crSwUXKPOfQl",
        "outputId": "6c796a0b-86d5-46ce-aac8-7e69695051d0"
      },
      "execution_count": null,
      "outputs": [
        {
          "output_type": "execute_result",
          "data": {
            "text/plain": [
              "[[2, 4, 6], 10]"
            ]
          },
          "metadata": {},
          "execution_count": 63
        }
      ]
    },
    {
      "cell_type": "markdown",
      "source": [
        "Percorrendo os elementos da lista"
      ],
      "metadata": {
        "id": "uT0jUtOHOpqy"
      }
    },
    {
      "cell_type": "code",
      "source": [
        "for elemento in lista_de_lista:\n",
        "  print(elemento)"
      ],
      "metadata": {
        "colab": {
          "base_uri": "https://localhost:8080/"
        },
        "id": "zJvPNhUVOpFL",
        "outputId": "05919bc8-52b1-4c0a-ea9c-ee8356202b2b"
      },
      "execution_count": null,
      "outputs": [
        {
          "output_type": "stream",
          "name": "stdout",
          "text": [
            "1\n",
            "3\n",
            "[2, 4, 6]\n",
            "2\n",
            "10\n",
            "6\n",
            "0\n"
          ]
        }
      ]
    },
    {
      "cell_type": "code",
      "source": [
        "len(lista_de_lista) # comprimento da lista\n",
        "for i in range(len(lista_de_lista)):\n",
        "  print(lista_de_lista[i])"
      ],
      "metadata": {
        "colab": {
          "base_uri": "https://localhost:8080/"
        },
        "id": "gqAHWY2ZO0GC",
        "outputId": "eaf67af6-a185-4b1a-a08d-63c2aa69bc21"
      },
      "execution_count": null,
      "outputs": [
        {
          "output_type": "stream",
          "name": "stdout",
          "text": [
            "1\n",
            "3\n",
            "[2, 4, 6]\n",
            "2\n",
            "10\n",
            "6\n",
            "0\n"
          ]
        }
      ]
    },
    {
      "cell_type": "markdown",
      "source": [
        "# 10. Métodos e Funções de Listas"
      ],
      "metadata": {
        "id": "4f43Lg40w5SF"
      }
    },
    {
      "cell_type": "code",
      "source": [
        "lista = [1, 3, 12, 8, 2]"
      ],
      "metadata": {
        "id": "K4h3fPdLPTV0"
      },
      "execution_count": null,
      "outputs": []
    },
    {
      "cell_type": "markdown",
      "source": [
        "append"
      ],
      "metadata": {
        "id": "vRlnykK6PZDu"
      }
    },
    {
      "cell_type": "code",
      "source": [
        "print(lista)\n",
        "\n",
        "lista.append(3)\n",
        "\n",
        "print(lista)"
      ],
      "metadata": {
        "colab": {
          "base_uri": "https://localhost:8080/"
        },
        "id": "bfGlYVSjPcFM",
        "outputId": "8b2750ae-2d75-4a24-cd6a-131941e864fc"
      },
      "execution_count": null,
      "outputs": [
        {
          "output_type": "stream",
          "name": "stdout",
          "text": [
            "[1, 3, 12, 8, 2]\n",
            "[1, 3, 12, 8, 2, 3]\n"
          ]
        }
      ]
    },
    {
      "cell_type": "markdown",
      "source": [
        "insert"
      ],
      "metadata": {
        "id": "P6ErRL8qPaZK"
      }
    },
    {
      "cell_type": "code",
      "source": [
        "print(lista)\n",
        "# insert(ÍNDICE, ELEMENTO)\n",
        "lista.insert(2, 10)\n",
        "\n",
        "print(lista)"
      ],
      "metadata": {
        "colab": {
          "base_uri": "https://localhost:8080/"
        },
        "id": "xVmYoCLSPrq5",
        "outputId": "b9a2c179-51ae-49f5-a37d-ffde1663148d"
      },
      "execution_count": null,
      "outputs": [
        {
          "output_type": "stream",
          "name": "stdout",
          "text": [
            "[1, 3, 12, 8, 2, 3]\n",
            "[1, 3, 10, 12, 8, 2, 3]\n"
          ]
        }
      ]
    },
    {
      "cell_type": "markdown",
      "source": [
        "extend"
      ],
      "metadata": {
        "id": "rWc8qc0WQL03"
      }
    },
    {
      "cell_type": "code",
      "source": [
        "print(lista)\n",
        "\n",
        "lista2 = [4, 2, 3]\n",
        "lista.extend(lista2)\n",
        "\n",
        "print(lista)"
      ],
      "metadata": {
        "colab": {
          "base_uri": "https://localhost:8080/"
        },
        "id": "4EisYzXfQLhx",
        "outputId": "9c07bf10-0fff-43b4-de9e-9226cf377552"
      },
      "execution_count": null,
      "outputs": [
        {
          "output_type": "stream",
          "name": "stdout",
          "text": [
            "[1, 3, 10, 12, 8, 2, 3]\n",
            "[1, 3, 10, 12, 8, 2, 3, 4, 2, 3]\n"
          ]
        }
      ]
    },
    {
      "cell_type": "markdown",
      "source": [
        "pop(): retira o último elemento\n",
        "\n",
        "pop(n): retira elemento da posição n"
      ],
      "metadata": {
        "id": "h4NwTcrOQhhQ"
      }
    },
    {
      "cell_type": "code",
      "source": [
        "print(lista)\n",
        "\n",
        "lista.pop()\n",
        "\n",
        "print(lista)"
      ],
      "metadata": {
        "colab": {
          "base_uri": "https://localhost:8080/"
        },
        "id": "6qxpL8V-QoVs",
        "outputId": "3952dc0e-93b7-4220-9db6-3efa96598340"
      },
      "execution_count": null,
      "outputs": [
        {
          "output_type": "stream",
          "name": "stdout",
          "text": [
            "[1, 3, 10, 12, 8, 2, 3, 4, 2, 3]\n",
            "[1, 3, 10, 12, 8, 2, 3, 4, 2]\n"
          ]
        }
      ]
    },
    {
      "cell_type": "code",
      "source": [
        "print(lista)\n",
        "\n",
        "lista.pop(0)\n",
        "\n",
        "print(lista)"
      ],
      "metadata": {
        "colab": {
          "base_uri": "https://localhost:8080/"
        },
        "id": "ace85uzNQ3Wc",
        "outputId": "d2b2a235-87bd-499d-9644-7b9c46062cf3"
      },
      "execution_count": null,
      "outputs": [
        {
          "output_type": "stream",
          "name": "stdout",
          "text": [
            "[1, 3, 10, 12, 8, 2, 3, 4, 2]\n",
            "[3, 10, 12, 8, 2, 3, 4, 2]\n"
          ]
        }
      ]
    },
    {
      "cell_type": "markdown",
      "source": [
        "remove(n) remove o primeiro elemento n"
      ],
      "metadata": {
        "id": "Ih5cc_NZQ3Eg"
      }
    },
    {
      "cell_type": "code",
      "source": [
        "print(lista)\n",
        "\n",
        "lista.remove(3)\n",
        "\n",
        "print(lista)"
      ],
      "metadata": {
        "colab": {
          "base_uri": "https://localhost:8080/"
        },
        "id": "zvGBglirQ-2P",
        "outputId": "fbee5b17-9bc9-4a61-fbdd-3f88201d1752"
      },
      "execution_count": null,
      "outputs": [
        {
          "output_type": "stream",
          "name": "stdout",
          "text": [
            "[3, 10, 12, 8, 2, 3, 4, 2]\n",
            "[10, 12, 8, 2, 3, 4, 2]\n"
          ]
        }
      ]
    },
    {
      "cell_type": "markdown",
      "source": [
        "count(n) conta quantos elementos n têm na lista"
      ],
      "metadata": {
        "id": "H_s3X3EsRKTU"
      }
    },
    {
      "cell_type": "code",
      "source": [
        "lista.count(2)"
      ],
      "metadata": {
        "colab": {
          "base_uri": "https://localhost:8080/"
        },
        "id": "x9nmKij5RLrZ",
        "outputId": "e1ed8176-72f9-440d-9d4f-d373a364b63c"
      },
      "execution_count": null,
      "outputs": [
        {
          "output_type": "execute_result",
          "data": {
            "text/plain": [
              "2"
            ]
          },
          "metadata": {},
          "execution_count": 79
        }
      ]
    },
    {
      "cell_type": "markdown",
      "source": [
        "index(n): índice do elemento n"
      ],
      "metadata": {
        "id": "riGBCi8VRXyr"
      }
    },
    {
      "cell_type": "code",
      "source": [
        "lista.index(12)"
      ],
      "metadata": {
        "colab": {
          "base_uri": "https://localhost:8080/"
        },
        "id": "0mxhYevlRYJ2",
        "outputId": "5381c9ea-2eb3-4ec1-bc0f-5bef63226705"
      },
      "execution_count": null,
      "outputs": [
        {
          "output_type": "execute_result",
          "data": {
            "text/plain": [
              "1"
            ]
          },
          "metadata": {},
          "execution_count": 80
        }
      ]
    },
    {
      "cell_type": "markdown",
      "source": [
        "sort -> ordenar a lista"
      ],
      "metadata": {
        "id": "E8fgV-1BRmHd"
      }
    },
    {
      "cell_type": "code",
      "source": [
        "lista.sort()\n",
        "print(lista)\n",
        "\n",
        "lista.sort(reverse=True)\n",
        "print(lista)"
      ],
      "metadata": {
        "colab": {
          "base_uri": "https://localhost:8080/"
        },
        "id": "GIxtx_eSRl6o",
        "outputId": "c1090b9f-1f3c-480a-c881-597196803633"
      },
      "execution_count": null,
      "outputs": [
        {
          "output_type": "stream",
          "name": "stdout",
          "text": [
            "[2, 2, 3, 4, 8, 10, 12]\n",
            "[12, 10, 8, 4, 3, 2, 2]\n"
          ]
        }
      ]
    },
    {
      "cell_type": "markdown",
      "source": [
        "## Funções para lista"
      ],
      "metadata": {
        "id": "cJ_QZUmCR1Or"
      }
    },
    {
      "cell_type": "markdown",
      "source": [
        "len -> tamanho da lista"
      ],
      "metadata": {
        "id": "GvQJ2ON8R8bO"
      }
    },
    {
      "cell_type": "code",
      "source": [
        "len(lista)"
      ],
      "metadata": {
        "colab": {
          "base_uri": "https://localhost:8080/"
        },
        "id": "kvXTwoy1R0uZ",
        "outputId": "a4492e59-cc8f-4213-b3cb-6f02e64d4c37"
      },
      "execution_count": null,
      "outputs": [
        {
          "output_type": "execute_result",
          "data": {
            "text/plain": [
              "7"
            ]
          },
          "metadata": {},
          "execution_count": 84
        }
      ]
    },
    {
      "cell_type": "markdown",
      "source": [
        "sum: somatório dos elementos"
      ],
      "metadata": {
        "id": "nQR2eXYxSCaE"
      }
    },
    {
      "cell_type": "code",
      "source": [
        "sum(lista)"
      ],
      "metadata": {
        "colab": {
          "base_uri": "https://localhost:8080/"
        },
        "id": "1jc2N33tSFvt",
        "outputId": "4553692f-8e75-4ac5-a8fe-0aa663950434"
      },
      "execution_count": null,
      "outputs": [
        {
          "output_type": "execute_result",
          "data": {
            "text/plain": [
              "41"
            ]
          },
          "metadata": {},
          "execution_count": 85
        }
      ]
    },
    {
      "cell_type": "markdown",
      "source": [
        "max -> maior valor"
      ],
      "metadata": {
        "id": "AZ8bRSSESK3J"
      }
    },
    {
      "cell_type": "code",
      "source": [
        "max(lista)"
      ],
      "metadata": {
        "colab": {
          "base_uri": "https://localhost:8080/"
        },
        "id": "77xgWGLFSKrF",
        "outputId": "f13abfbc-08fc-4cf7-8a8e-5dc876174457"
      },
      "execution_count": null,
      "outputs": [
        {
          "output_type": "execute_result",
          "data": {
            "text/plain": [
              "12"
            ]
          },
          "metadata": {},
          "execution_count": 86
        }
      ]
    },
    {
      "cell_type": "markdown",
      "source": [
        "min -> menor valor"
      ],
      "metadata": {
        "id": "YXHvvLLrSKhK"
      }
    },
    {
      "cell_type": "code",
      "source": [
        "min(lista)"
      ],
      "metadata": {
        "colab": {
          "base_uri": "https://localhost:8080/"
        },
        "id": "qm5y2J7gSKWq",
        "outputId": "246e4034-512b-462a-f476-40623fdca574"
      },
      "execution_count": null,
      "outputs": [
        {
          "output_type": "execute_result",
          "data": {
            "text/plain": [
              "2"
            ]
          },
          "metadata": {},
          "execution_count": 87
        }
      ]
    },
    {
      "cell_type": "markdown",
      "source": [
        "# 11. Funções"
      ],
      "metadata": {
        "id": "VBRSRzYDw5Pm"
      }
    },
    {
      "cell_type": "markdown",
      "source": [
        "Criação de função sem parâmetro:"
      ],
      "metadata": {
        "id": "GL5ZztNZKFZq"
      }
    },
    {
      "cell_type": "code",
      "source": [
        "def saudacao():\n",
        "  print('Seja bem vindo(a)!')"
      ],
      "metadata": {
        "id": "ZX73BpKAKAZT"
      },
      "execution_count": 3,
      "outputs": []
    },
    {
      "cell_type": "code",
      "source": [
        "# chamando a função saudacao()\n",
        "saudacao()"
      ],
      "metadata": {
        "colab": {
          "base_uri": "https://localhost:8080/"
        },
        "id": "lAfQirAVKYNX",
        "outputId": "50163be0-430e-48c5-c166-50c38fe615a3"
      },
      "execution_count": 4,
      "outputs": [
        {
          "output_type": "stream",
          "name": "stdout",
          "text": [
            "Seja bem vindo(a)!\n"
          ]
        }
      ]
    },
    {
      "cell_type": "markdown",
      "source": [
        "Criação de função com um parâmetro:"
      ],
      "metadata": {
        "id": "BnM0bk4WKl01"
      }
    },
    {
      "cell_type": "code",
      "source": [
        "def saudacao(nome):\n",
        "  print(f'Seja bem vindo(a), {nome}!')"
      ],
      "metadata": {
        "id": "Z_awAKweKtUd"
      },
      "execution_count": 5,
      "outputs": []
    },
    {
      "cell_type": "code",
      "source": [
        "saudacao('Amanda')"
      ],
      "metadata": {
        "colab": {
          "base_uri": "https://localhost:8080/"
        },
        "id": "qGv2Fxa8KzF2",
        "outputId": "0ac5f8e8-c5ef-4e53-8d93-bcb36954ae6a"
      },
      "execution_count": 6,
      "outputs": [
        {
          "output_type": "stream",
          "name": "stdout",
          "text": [
            "Seja bem vindo(a), Amanda!\n"
          ]
        }
      ]
    },
    {
      "cell_type": "markdown",
      "source": [
        "Criação de função com mais parâmetro:"
      ],
      "metadata": {
        "id": "iO7ow4qhK4oC"
      }
    },
    {
      "cell_type": "code",
      "source": [
        "def saudacao(nome, curso):\n",
        "  print(f'Seja bem vindo(a) ao curso de {curso}, {nome}!')"
      ],
      "metadata": {
        "id": "WR7ax5ooLA4U"
      },
      "execution_count": 7,
      "outputs": []
    },
    {
      "cell_type": "code",
      "source": [
        "saudacao('Amanda', 'python')"
      ],
      "metadata": {
        "colab": {
          "base_uri": "https://localhost:8080/"
        },
        "id": "kYFc9uWNLGz6",
        "outputId": "80d1f6f6-ed0d-448b-85dd-14b52687ca20"
      },
      "execution_count": 8,
      "outputs": [
        {
          "output_type": "stream",
          "name": "stdout",
          "text": [
            "Seja bem vindo(a) ao curso de python, Amanda!\n"
          ]
        }
      ]
    },
    {
      "cell_type": "markdown",
      "source": [
        "Função com parâmetros default"
      ],
      "metadata": {
        "id": "x9fBM59pLO-c"
      }
    },
    {
      "cell_type": "code",
      "source": [
        "def saudacao(nome, curso = 'Python'):\n",
        "  print(f'Seja bem vindo(a) ao curso de {curso}, {nome}!')"
      ],
      "metadata": {
        "id": "Jv6d3VbnLO0k"
      },
      "execution_count": 9,
      "outputs": []
    },
    {
      "cell_type": "code",
      "source": [
        "saudacao('Amanda')"
      ],
      "metadata": {
        "colab": {
          "base_uri": "https://localhost:8080/"
        },
        "id": "6LDr9AjDLaL6",
        "outputId": "73433f50-70b6-40b2-c827-14bd61e2672f"
      },
      "execution_count": 10,
      "outputs": [
        {
          "output_type": "stream",
          "name": "stdout",
          "text": [
            "Seja bem vindo(a) ao curso de Python, Amanda!\n"
          ]
        }
      ]
    },
    {
      "cell_type": "code",
      "source": [
        "saudacao('Amanda', 'Java')"
      ],
      "metadata": {
        "colab": {
          "base_uri": "https://localhost:8080/"
        },
        "id": "78AEuAn0Lsfu",
        "outputId": "be5852c1-8bfb-456d-cdfa-ad2d4fb30aa4"
      },
      "execution_count": 11,
      "outputs": [
        {
          "output_type": "stream",
          "name": "stdout",
          "text": [
            "Seja bem vindo(a) ao curso de Java, Amanda!\n"
          ]
        }
      ]
    },
    {
      "cell_type": "markdown",
      "source": [
        "Funções com retorno:"
      ],
      "metadata": {
        "id": "iRl4JPiNL3lg"
      }
    },
    {
      "cell_type": "code",
      "source": [
        "def soma(num1, num2):\n",
        "  return num1+num2"
      ],
      "metadata": {
        "id": "1lBfvjnkL3Qi"
      },
      "execution_count": 12,
      "outputs": []
    },
    {
      "cell_type": "code",
      "source": [
        "soma(5,7)"
      ],
      "metadata": {
        "colab": {
          "base_uri": "https://localhost:8080/"
        },
        "id": "1mm9XxF-L3Ds",
        "outputId": "7505f3cc-ad2e-4fda-9238-819b5c87f4e3"
      },
      "execution_count": 13,
      "outputs": [
        {
          "output_type": "execute_result",
          "data": {
            "text/plain": [
              "12"
            ]
          },
          "metadata": {},
          "execution_count": 13
        }
      ]
    },
    {
      "cell_type": "markdown",
      "source": [
        "# 12. Dicionários"
      ],
      "metadata": {
        "id": "75KAsm0dw5NE"
      }
    },
    {
      "cell_type": "markdown",
      "source": [
        "criando um dicionário:"
      ],
      "metadata": {
        "id": "UQ-AwYV2Mmj6"
      }
    },
    {
      "cell_type": "code",
      "source": [
        "#dicionário vazio\n",
        "dicionario = {}\n",
        "#ou\n",
        "dicionario = dict()"
      ],
      "metadata": {
        "id": "2WCqpLfuM6tS"
      },
      "execution_count": 14,
      "outputs": []
    },
    {
      "cell_type": "code",
      "source": [
        "dicionario = {'nome': 'Amanda', 'idade': 28, 'altura': 1.6}"
      ],
      "metadata": {
        "id": "2_ObJwm7NDYa"
      },
      "execution_count": 22,
      "outputs": []
    },
    {
      "cell_type": "code",
      "source": [
        "dicionario"
      ],
      "metadata": {
        "colab": {
          "base_uri": "https://localhost:8080/"
        },
        "id": "dZDWOF5qNSGC",
        "outputId": "c83a61c6-04d9-4c7b-9029-7e187d85caed"
      },
      "execution_count": 23,
      "outputs": [
        {
          "output_type": "execute_result",
          "data": {
            "text/plain": [
              "{'nome': 'Amanda', 'idade': 28, 'altura': 1.6}"
            ]
          },
          "metadata": {},
          "execution_count": 23
        }
      ]
    },
    {
      "cell_type": "code",
      "source": [
        "print(dicionario['idade'])"
      ],
      "metadata": {
        "colab": {
          "base_uri": "https://localhost:8080/"
        },
        "id": "xhatGA1rNbii",
        "outputId": "adad3843-3252-4959-c418-ca5cd6cedb06"
      },
      "execution_count": 24,
      "outputs": [
        {
          "output_type": "stream",
          "name": "stdout",
          "text": [
            "28\n"
          ]
        }
      ]
    },
    {
      "cell_type": "markdown",
      "source": [
        "adicionar elementos"
      ],
      "metadata": {
        "id": "NDM2Z8dgNo1M"
      }
    },
    {
      "cell_type": "code",
      "source": [
        "dicionario['programador'] = True"
      ],
      "metadata": {
        "id": "kKYDae4vNdjJ"
      },
      "execution_count": 25,
      "outputs": []
    },
    {
      "cell_type": "code",
      "source": [
        "dicionario"
      ],
      "metadata": {
        "colab": {
          "base_uri": "https://localhost:8080/"
        },
        "id": "xXvjv3m8Ndg5",
        "outputId": "e348ba07-481c-4d4c-bff1-d0dea0084962"
      },
      "execution_count": 26,
      "outputs": [
        {
          "output_type": "execute_result",
          "data": {
            "text/plain": [
              "{'nome': 'Amanda', 'idade': 28, 'altura': 1.6, 'programador': True}"
            ]
          },
          "metadata": {},
          "execution_count": 26
        }
      ]
    },
    {
      "cell_type": "code",
      "source": [
        "dicionario['idade'] = 25 # substitui o valor"
      ],
      "metadata": {
        "id": "UDRriUnBNdeh"
      },
      "execution_count": 27,
      "outputs": []
    },
    {
      "cell_type": "code",
      "source": [
        "dicionario"
      ],
      "metadata": {
        "colab": {
          "base_uri": "https://localhost:8080/"
        },
        "id": "S_b69JHCOBKa",
        "outputId": "9e776b60-79b2-4898-d210-73415ead5964"
      },
      "execution_count": 28,
      "outputs": [
        {
          "output_type": "execute_result",
          "data": {
            "text/plain": [
              "{'nome': 'Amanda', 'idade': 25, 'altura': 1.6, 'programador': True}"
            ]
          },
          "metadata": {},
          "execution_count": 28
        }
      ]
    },
    {
      "cell_type": "markdown",
      "source": [
        "Iterando sobre um dicionário"
      ],
      "metadata": {
        "id": "0ZXbA-mSOERB"
      }
    },
    {
      "cell_type": "code",
      "source": [
        "for variavel in dicionario: # percorre as chaves\n",
        "  print(variavel)"
      ],
      "metadata": {
        "colab": {
          "base_uri": "https://localhost:8080/"
        },
        "id": "gQPHDS6oOEzS",
        "outputId": "5e85faec-941e-4f1c-820c-004fb1d7479c"
      },
      "execution_count": 29,
      "outputs": [
        {
          "output_type": "stream",
          "name": "stdout",
          "text": [
            "nome\n",
            "idade\n",
            "altura\n",
            "programador\n"
          ]
        }
      ]
    },
    {
      "cell_type": "code",
      "source": [
        "for chave in dicionario:\n",
        "  print(chave, dicionario[chave])"
      ],
      "metadata": {
        "colab": {
          "base_uri": "https://localhost:8080/"
        },
        "id": "RgSbSVOeOE1Q",
        "outputId": "b6f47c5e-ac1d-4a41-cf8d-bf9e3b831528"
      },
      "execution_count": 30,
      "outputs": [
        {
          "output_type": "stream",
          "name": "stdout",
          "text": [
            "nome Amanda\n",
            "idade 25\n",
            "altura 1.6\n",
            "programador True\n"
          ]
        }
      ]
    },
    {
      "cell_type": "markdown",
      "source": [
        "testando a existência de uma chave"
      ],
      "metadata": {
        "id": "F0rfONE5Oaqi"
      }
    },
    {
      "cell_type": "code",
      "source": [
        "print('peso' in dicionario)\n",
        "print('altura' in dicionario)"
      ],
      "metadata": {
        "colab": {
          "base_uri": "https://localhost:8080/"
        },
        "id": "sKBnBxX_OCFy",
        "outputId": "6a739101-aa43-4913-cac2-796644eabae6"
      },
      "execution_count": 31,
      "outputs": [
        {
          "output_type": "stream",
          "name": "stdout",
          "text": [
            "False\n",
            "True\n"
          ]
        }
      ]
    }
  ]
}